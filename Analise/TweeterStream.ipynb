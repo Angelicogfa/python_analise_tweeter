{
 "metadata": {
  "language_info": {
   "codemirror_mode": {
    "name": "ipython",
    "version": 3
   },
   "file_extension": ".py",
   "mimetype": "text/x-python",
   "name": "python",
   "nbconvert_exporter": "python",
   "pygments_lexer": "ipython3",
   "version": "3.7.9-final"
  },
  "orig_nbformat": 2,
  "kernelspec": {
   "name": "python3",
   "display_name": "Python 3",
   "language": "python"
  }
 },
 "nbformat": 4,
 "nbformat_minor": 2,
 "cells": [
  {
   "cell_type": "code",
   "execution_count": 1,
   "metadata": {},
   "outputs": [],
   "source": [
    "import os\n",
    "import tweepy\n",
    "import pandas as pd\n",
    "from pymongo import MongoClient\n",
    "from sklearn.feature_extraction.text import CountVectorizer\n",
    "\n",
    "consumer_key =  os.environ['tweety_consumer_key']\n",
    "consumer_secret = os.environ['tweety_consumer_secret']\n",
    "access_token = os.environ['tweety_access_token']\n",
    "acess_token_secret = os.environ['tweety_acess_token_secret']\n",
    "\n",
    "auth = tweepy.OAuthHandler(consumer_key, consumer_secret)\n",
    "auth.set_access_token(access_token, acess_token_secret)\n",
    "api = tweepy.API(auth)"
   ]
  },
  {
   "cell_type": "code",
   "execution_count": 2,
   "metadata": {},
   "outputs": [],
   "source": [
    "conn = MongoClient('localhost', 27017)\n",
    "database = conn.get_database('twitterdatabase')\n",
    "col = database.get_collection('tweets')"
   ]
  },
  {
   "cell_type": "code",
   "execution_count": 3,
   "metadata": {},
   "outputs": [],
   "source": [
    "class StreamListner(tweepy.StreamListener):\n",
    "    def __init__(self, col):\n",
    "        super().__init__()\n",
    "        self.__col__ = col\n",
    "\n",
    "    def on_status(self, status):\n",
    "         obj = { 'created_at': status.created_at, 'id_str': status.id_str, 'text': status.text }\n",
    "         result = self.__col__.insert_one(obj)\n",
    "         print(obj)\n",
    "\n",
    "    def on_error(self, status_code):\n",
    "        if status_code == 420:\n",
    "            return False"
   ]
  },
  {
   "cell_type": "code",
   "execution_count": 4,
   "metadata": {},
   "outputs": [],
   "source": [
    "track = ['futebol']"
   ]
  },
  {
   "cell_type": "code",
   "execution_count": 5,
   "metadata": {
    "tags": []
   },
   "outputs": [],
   "source": [
    "stream_listner = StreamListner(col)\n",
    "stream = tweepy.Stream(auth=api.auth, listener=stream_listner)\n",
    "stream.filter(track=track, languages=['pt'], is_async=True)"
   ]
  },
  {
   "cell_type": "code",
   "execution_count": 6,
   "metadata": {},
   "outputs": [
    {
     "output_type": "execute_result",
     "data": {
      "text/plain": [
       "          created_at:                                               text\n",
       "0 2020-12-15 21:07:57  RT @Curiosidades_PL: ATENÇÃO: Este perfil não ...\n",
       "1 2020-12-15 21:07:57  @oporcoiris @porcomunas @globoesporteSP Precis...\n",
       "2 2020-12-15 21:07:59  Seu natal vai ter panetone? Não porque a mídia...\n",
       "3 2020-12-15 21:07:59  RT @melaniestan_: Fã de jogador de futebol é t...\n",
       "4 2020-12-15 21:07:59  Esses são os mesmos que dizem que um é absurdo...\n",
       "5 2020-12-15 21:08:03                               Pegar esse futebol 💪\n",
       "6 2020-12-15 21:08:04  n tenho, pelo meu pai acho q flamengo ou sao p...\n",
       "7 2020-12-15 21:08:04  Se Lucas Vázquez é jogador de futebol eu sou a...\n",
       "8 2020-12-15 21:08:04          Futebol vai ser na chuva hoje esqueceeeee\n",
       "9 2020-12-15 21:08:05  Pedro e Gabigol c uma perna são melhores q os ..."
      ],
      "text/html": "<div>\n<style scoped>\n    .dataframe tbody tr th:only-of-type {\n        vertical-align: middle;\n    }\n\n    .dataframe tbody tr th {\n        vertical-align: top;\n    }\n\n    .dataframe thead th {\n        text-align: right;\n    }\n</style>\n<table border=\"1\" class=\"dataframe\">\n  <thead>\n    <tr style=\"text-align: right;\">\n      <th></th>\n      <th>created_at:</th>\n      <th>text</th>\n    </tr>\n  </thead>\n  <tbody>\n    <tr>\n      <th>0</th>\n      <td>2020-12-15 21:07:57</td>\n      <td>RT @Curiosidades_PL: ATENÇÃO: Este perfil não ...</td>\n    </tr>\n    <tr>\n      <th>1</th>\n      <td>2020-12-15 21:07:57</td>\n      <td>@oporcoiris @porcomunas @globoesporteSP Precis...</td>\n    </tr>\n    <tr>\n      <th>2</th>\n      <td>2020-12-15 21:07:59</td>\n      <td>Seu natal vai ter panetone? Não porque a mídia...</td>\n    </tr>\n    <tr>\n      <th>3</th>\n      <td>2020-12-15 21:07:59</td>\n      <td>RT @melaniestan_: Fã de jogador de futebol é t...</td>\n    </tr>\n    <tr>\n      <th>4</th>\n      <td>2020-12-15 21:07:59</td>\n      <td>Esses são os mesmos que dizem que um é absurdo...</td>\n    </tr>\n    <tr>\n      <th>5</th>\n      <td>2020-12-15 21:08:03</td>\n      <td>Pegar esse futebol 💪</td>\n    </tr>\n    <tr>\n      <th>6</th>\n      <td>2020-12-15 21:08:04</td>\n      <td>n tenho, pelo meu pai acho q flamengo ou sao p...</td>\n    </tr>\n    <tr>\n      <th>7</th>\n      <td>2020-12-15 21:08:04</td>\n      <td>Se Lucas Vázquez é jogador de futebol eu sou a...</td>\n    </tr>\n    <tr>\n      <th>8</th>\n      <td>2020-12-15 21:08:04</td>\n      <td>Futebol vai ser na chuva hoje esqueceeeee</td>\n    </tr>\n    <tr>\n      <th>9</th>\n      <td>2020-12-15 21:08:05</td>\n      <td>Pedro e Gabigol c uma perna são melhores q os ...</td>\n    </tr>\n  </tbody>\n</table>\n</div>"
     },
     "metadata": {},
     "execution_count": 6
    }
   ],
   "source": [
    "dataset = [{ \"created_at:\": item[\"created_at\"], \"text\": item[\"text\"]  } for item in col.find()]\n",
    "df = pd.DataFrame(dataset)\n",
    "df.head(10)"
   ]
  },
  {
   "cell_type": "code",
   "execution_count": 7,
   "metadata": {},
   "outputs": [],
   "source": [
    "stream.disconnect()"
   ]
  },
  {
   "cell_type": "code",
   "execution_count": 8,
   "metadata": {},
   "outputs": [],
   "source": [
    "cv = CountVectorizer()\n",
    "count_matrix = cv.fit_transform(df.text)"
   ]
  },
  {
   "cell_type": "code",
   "execution_count": 9,
   "metadata": {},
   "outputs": [
    {
     "output_type": "execute_result",
     "data": {
      "text/plain": [
       "          word  count\n",
       "0           de     10\n",
       "1      futebol     10\n",
       "2          que      6\n",
       "3        https      4\n",
       "4          não      4\n",
       "5           co      4\n",
       "6           rt      3\n",
       "7         mais      3\n",
       "8          são      3\n",
       "9           em      3\n",
       "10         vai      3\n",
       "11         uma      3\n",
       "12          no      3\n",
       "13          os      3\n",
       "14     atenção      2\n",
       "15       pedro      2\n",
       "16          eu      2\n",
       "17       tenho      2\n",
       "18     jogador      2\n",
       "19       clube      2\n",
       "20        tudo      2\n",
       "21      porque      1\n",
       "22         por      1\n",
       "23       pensa      1\n",
       "24       pesso      1\n",
       "25       perna      1\n",
       "26       porra      1\n",
       "27   postagens      1\n",
       "28  porcomunas      1\n",
       "29      perfis      1\n",
       "30      perfil      1\n",
       "31        para      1\n",
       "32        pelo      1\n",
       "33       pegar      1\n",
       "34       paulo      1\n",
       "35       passa      1\n",
       "36    panetone      1\n",
       "37         pai      1\n",
       "38      outras      1\n",
       "39          ou      1\n",
       "40      otário      1\n",
       "41  oporcoiris      1\n",
       "42      nossas      1\n",
       "43      neymar      1\n",
       "44          pq      1\n",
       "45        2020      1\n",
       "46  precisamos      1\n",
       "47       també      1\n",
       "48     vázquez      1\n",
       "49       vezes      1"
      ],
      "text/html": "<div>\n<style scoped>\n    .dataframe tbody tr th:only-of-type {\n        vertical-align: middle;\n    }\n\n    .dataframe tbody tr th {\n        vertical-align: top;\n    }\n\n    .dataframe thead th {\n        text-align: right;\n    }\n</style>\n<table border=\"1\" class=\"dataframe\">\n  <thead>\n    <tr style=\"text-align: right;\">\n      <th></th>\n      <th>word</th>\n      <th>count</th>\n    </tr>\n  </thead>\n  <tbody>\n    <tr>\n      <th>0</th>\n      <td>de</td>\n      <td>10</td>\n    </tr>\n    <tr>\n      <th>1</th>\n      <td>futebol</td>\n      <td>10</td>\n    </tr>\n    <tr>\n      <th>2</th>\n      <td>que</td>\n      <td>6</td>\n    </tr>\n    <tr>\n      <th>3</th>\n      <td>https</td>\n      <td>4</td>\n    </tr>\n    <tr>\n      <th>4</th>\n      <td>não</td>\n      <td>4</td>\n    </tr>\n    <tr>\n      <th>5</th>\n      <td>co</td>\n      <td>4</td>\n    </tr>\n    <tr>\n      <th>6</th>\n      <td>rt</td>\n      <td>3</td>\n    </tr>\n    <tr>\n      <th>7</th>\n      <td>mais</td>\n      <td>3</td>\n    </tr>\n    <tr>\n      <th>8</th>\n      <td>são</td>\n      <td>3</td>\n    </tr>\n    <tr>\n      <th>9</th>\n      <td>em</td>\n      <td>3</td>\n    </tr>\n    <tr>\n      <th>10</th>\n      <td>vai</td>\n      <td>3</td>\n    </tr>\n    <tr>\n      <th>11</th>\n      <td>uma</td>\n      <td>3</td>\n    </tr>\n    <tr>\n      <th>12</th>\n      <td>no</td>\n      <td>3</td>\n    </tr>\n    <tr>\n      <th>13</th>\n      <td>os</td>\n      <td>3</td>\n    </tr>\n    <tr>\n      <th>14</th>\n      <td>atenção</td>\n      <td>2</td>\n    </tr>\n    <tr>\n      <th>15</th>\n      <td>pedro</td>\n      <td>2</td>\n    </tr>\n    <tr>\n      <th>16</th>\n      <td>eu</td>\n      <td>2</td>\n    </tr>\n    <tr>\n      <th>17</th>\n      <td>tenho</td>\n      <td>2</td>\n    </tr>\n    <tr>\n      <th>18</th>\n      <td>jogador</td>\n      <td>2</td>\n    </tr>\n    <tr>\n      <th>19</th>\n      <td>clube</td>\n      <td>2</td>\n    </tr>\n    <tr>\n      <th>20</th>\n      <td>tudo</td>\n      <td>2</td>\n    </tr>\n    <tr>\n      <th>21</th>\n      <td>porque</td>\n      <td>1</td>\n    </tr>\n    <tr>\n      <th>22</th>\n      <td>por</td>\n      <td>1</td>\n    </tr>\n    <tr>\n      <th>23</th>\n      <td>pensa</td>\n      <td>1</td>\n    </tr>\n    <tr>\n      <th>24</th>\n      <td>pesso</td>\n      <td>1</td>\n    </tr>\n    <tr>\n      <th>25</th>\n      <td>perna</td>\n      <td>1</td>\n    </tr>\n    <tr>\n      <th>26</th>\n      <td>porra</td>\n      <td>1</td>\n    </tr>\n    <tr>\n      <th>27</th>\n      <td>postagens</td>\n      <td>1</td>\n    </tr>\n    <tr>\n      <th>28</th>\n      <td>porcomunas</td>\n      <td>1</td>\n    </tr>\n    <tr>\n      <th>29</th>\n      <td>perfis</td>\n      <td>1</td>\n    </tr>\n    <tr>\n      <th>30</th>\n      <td>perfil</td>\n      <td>1</td>\n    </tr>\n    <tr>\n      <th>31</th>\n      <td>para</td>\n      <td>1</td>\n    </tr>\n    <tr>\n      <th>32</th>\n      <td>pelo</td>\n      <td>1</td>\n    </tr>\n    <tr>\n      <th>33</th>\n      <td>pegar</td>\n      <td>1</td>\n    </tr>\n    <tr>\n      <th>34</th>\n      <td>paulo</td>\n      <td>1</td>\n    </tr>\n    <tr>\n      <th>35</th>\n      <td>passa</td>\n      <td>1</td>\n    </tr>\n    <tr>\n      <th>36</th>\n      <td>panetone</td>\n      <td>1</td>\n    </tr>\n    <tr>\n      <th>37</th>\n      <td>pai</td>\n      <td>1</td>\n    </tr>\n    <tr>\n      <th>38</th>\n      <td>outras</td>\n      <td>1</td>\n    </tr>\n    <tr>\n      <th>39</th>\n      <td>ou</td>\n      <td>1</td>\n    </tr>\n    <tr>\n      <th>40</th>\n      <td>otário</td>\n      <td>1</td>\n    </tr>\n    <tr>\n      <th>41</th>\n      <td>oporcoiris</td>\n      <td>1</td>\n    </tr>\n    <tr>\n      <th>42</th>\n      <td>nossas</td>\n      <td>1</td>\n    </tr>\n    <tr>\n      <th>43</th>\n      <td>neymar</td>\n      <td>1</td>\n    </tr>\n    <tr>\n      <th>44</th>\n      <td>pq</td>\n      <td>1</td>\n    </tr>\n    <tr>\n      <th>45</th>\n      <td>2020</td>\n      <td>1</td>\n    </tr>\n    <tr>\n      <th>46</th>\n      <td>precisamos</td>\n      <td>1</td>\n    </tr>\n    <tr>\n      <th>47</th>\n      <td>també</td>\n      <td>1</td>\n    </tr>\n    <tr>\n      <th>48</th>\n      <td>vázquez</td>\n      <td>1</td>\n    </tr>\n    <tr>\n      <th>49</th>\n      <td>vezes</td>\n      <td>1</td>\n    </tr>\n  </tbody>\n</table>\n</div>"
     },
     "metadata": {},
     "execution_count": 9
    }
   ],
   "source": [
    "word_count = pd.DataFrame(cv.get_feature_names(), columns=[\"word\"])\n",
    "word_count[\"count\"] = count_matrix.sum(axis=0).tolist()[0]\n",
    "word_count = word_count.sort_values(\"count\", ascending=False).reset_index(drop=True)\n",
    "word_count[:50]"
   ]
  },
  {
   "cell_type": "code",
   "execution_count": null,
   "metadata": {},
   "outputs": [],
   "source": []
  }
 ]
}